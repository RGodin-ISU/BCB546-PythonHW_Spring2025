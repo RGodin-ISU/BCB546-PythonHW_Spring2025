{
 "cells": [
  {
   "cell_type": "markdown",
   "id": "211685e2",
   "metadata": {},
   "source": [
    "# BCB 546 Python Homework\n",
    "Author: Ryan Godin\n",
    "\n",
    "Run the following cell to load the libraries needed for the rest of the code in this notebook."
   ]
  },
  {
   "cell_type": "code",
   "execution_count": 15,
   "id": "cfd250c6",
   "metadata": {},
   "outputs": [],
   "source": [
    "## IMPORTANT: install BioPython so that this will work\n",
    "\n",
    "from Bio import SeqIO\n",
    "from Bio.Data import CodonTable\n",
    "import pandas as pd"
   ]
  },
  {
   "cell_type": "markdown",
   "id": "4b0d65c8",
   "metadata": {},
   "source": [
    "## Task 1: Document Dr. X's function with comments and with markdown text in your Jupyter notebook.\n",
    "\n",
    "### Instructions\n",
    "\n",
    "\n",
    "```python\n",
    "####### GET SEQUENCES FUNCTION ########\n",
    "## Dr. X: this gets sequences \n",
    "## Please properly document this function in the Jupyter notebook \n",
    "## Your descriptions of all functions should contain information about what the function does,\n",
    "## as well as information about the return types and arguments.\n",
    "def get_sequences_from_file(fasta_fn):\n",
    "    sequence_data_dict = {}\n",
    "    for record in SeqIO.parse(fasta_fn, \"fasta\"):\n",
    "        description = record.description.split()\n",
    "        species_name = description[1] + \" \" + description[2]\n",
    "        sequence_data_dict[species_name] = record.seq\n",
    "    return(sequence_data_dict)\n",
    "```\n",
    "\n",
    "### Solution:\n",
    "\n",
    "See the code cell below for the properly documented function."
   ]
  },
  {
   "cell_type": "code",
   "execution_count": 8,
   "id": "879ec2ae",
   "metadata": {},
   "outputs": [],
   "source": [
    "def get_sequences_from_file(fasta_fn):\n",
    "    \"\"\"\n",
    "    This function parses a fasta file and for all entries it: (1) extracts the species name from \n",
    "    the header and(2) stores the species name along with its sequence in a dictionary. It then \n",
    "    returns this dictonary. \n",
    "\n",
    "    Args:\n",
    "        fasta_fn (string): File name for the fasta file that should be parsed.\n",
    "\n",
    "    Returns:\n",
    "        sequence_data_dict (dict): dictionary with species names as keys and the sequence as the \n",
    "        entry. \n",
    "\n",
    "    Note: \n",
    "        If there is more than one entry for a species the sequence will be overwritten.\n",
    "    \"\"\"\n",
    "    sequence_data_dict = {}\n",
    "    for record in SeqIO.parse(fasta_fn, \"fasta\"):\n",
    "        description = record.description.split()\n",
    "        species_name = description[1] + \" \" + description[2]\n",
    "        sequence_data_dict[species_name] = record.seq\n",
    "    return sequence_data_dict"
   ]
  },
  {
   "cell_type": "markdown",
   "id": "85e3df09",
   "metadata": {},
   "source": [
    "### Example Usage:\n",
    "Run the cell below to see the function in action."
   ]
  },
  {
   "cell_type": "code",
   "execution_count": 6,
   "id": "d7f5d3f6",
   "metadata": {},
   "outputs": [
    {
     "data": {
      "text/plain": [
       "{'Aptenodytes forsteri': Seq('ATGGCCCCAAATCTCCGAAAATCCCATCCCCTCCTAAAAATAATTAATAACTCC...TAA'),\n",
       " 'Aptenodytes patagonicus': Seq('ATGGCCCCAAACCTCCGAAAATCCCATCCTCTCCTAAAAATAATTAATAACTCC...TAA'),\n",
       " 'Eudyptes chrysocome': Seq('ATGGCCCCCAACCTCCGAAAATCCCACCCCCTCCTAAAAACAATCAATAACTCC...TAA'),\n",
       " 'Eudyptes chrysolophus': Seq('ATGGCCCCCAACCTCCGAAAATCCCACCCCCTCCTAAAAACAATCAATAACTCC...TAA'),\n",
       " 'Eudyptes sclateri': Seq('ATGGCCCCCAACCTCCGAAAATCCCACCCCCTCCTAAAAACAATCAATAACTCC...TAA'),\n",
       " 'Eudyptula minor': Seq('ATGGCCCCCAACCTCCGAAAATCTCACCCCCTCCTAAAAATAATCAACAACTCT...TAA'),\n",
       " 'Pygoscelis adeliae': Seq('ATGGCCCCCAACCTCCGAAAATCCCACCCTCTCCTAAAAATAATTAACAACTCC...TAA'),\n",
       " 'Pygoscelis antarctica': Seq('ATGGCCCCCAACCTCCGAAAATCCCACCCTCTCCTAAAAATAATCAACAACTCC...TAG'),\n",
       " 'Pygoscelis papua': Seq('ATGGCCCCCAACCTTCGAAAATCCCACCCTCTCCTAAAAATAATCAACAAATCC...TAG'),\n",
       " 'Spheniscus demersus': Seq('ATGGCCCCCAACCTCCGAAAATCCCACCCTCTCCTAAAAACAATCAACAACTCC...TAA'),\n",
       " 'Spheniscus humboldti': Seq('ATGGCCCCCAACCTCCGAAAATCCCACCCTCTCCTAAAAACAATCAACAACTCC...TAA'),\n",
       " 'Spheniscus magellanicus': Seq('ATGGCCCCCAACCTCCGAAAATCCCACCCTCTCCTAAAAACAATCAACAACTCC...TAA')}"
      ]
     },
     "execution_count": 6,
     "metadata": {},
     "output_type": "execute_result"
    }
   ],
   "source": [
    "get_sequences_from_file(\"penguins_cytb.fasta\")"
   ]
  },
  {
   "cell_type": "markdown",
   "id": "bd005d9f",
   "metadata": {},
   "source": [
    "## Task 2: Write a function that translates a string of nucleotides to amino acids based on Dr. X's pseudo-code suggestion. \n",
    "\n",
    "### Instructions: \n",
    "\n",
    "```python\n",
    "####### YOUR STRING-TRANSLATE FUNCTION ########\n",
    "## Write a function that translates sequences\n",
    "## All sequences start at codon position 1\n",
    "## Complete a function that translates using a loop over the string of nucleotides\n",
    "## Here is  some pseudo-code and suggestions\n",
    "## feel free to change the function and variable names\n",
    "\n",
    "```\n",
    "\n",
    "### Solution:\n",
    "\n",
    "See the code cell below for the requested function."
   ]
  },
  {
   "cell_type": "code",
   "execution_count": 37,
   "id": "7ed41766",
   "metadata": {},
   "outputs": [],
   "source": [
    "def translate_function(coding_sequence):\n",
    "    # Initialize empty amino acid string\n",
    "    aa_seq_string = \"\"  \n",
    "    mito_table = CodonTable.unambiguous_dna_by_name[\"Vertebrate Mitochondrial\"]\n",
    "    stop_codons = mito_table.stop_codons\n",
    "    if len(coding_sequence) % 3 != 0:\n",
    "        raise ValueError(\"The sequence is not a multiple of 3, so it is not correct.\")\n",
    "    for nucleotide in range(0, len(coding_sequence), 3):\n",
    "        end_nucleotide = nucleotide + 3\n",
    "        codon = coding_sequence[nucleotide:end_nucleotide]\n",
    "        if codon not in stop_codons:\n",
    "            amino_acid = mito_table.forward_table[codon]\n",
    "            aa_seq_string += amino_acid\n",
    "\n",
    "    return aa_seq_string"
   ]
  },
  {
   "cell_type": "markdown",
   "id": "f939ea25",
   "metadata": {},
   "source": [
    "### Example Usage:\n",
    "\n",
    "Run the cell below to see an example usage of the translation function with a stop codon at the end."
   ]
  },
  {
   "cell_type": "code",
   "execution_count": 40,
   "id": "5bb7abfe",
   "metadata": {},
   "outputs": [
    {
     "data": {
      "text/plain": [
       "'MSRDHMVLHEYVNAAGIT'"
      ]
     },
     "execution_count": 40,
     "metadata": {},
     "output_type": "execute_result"
    }
   ],
   "source": [
    "translate_function(coding_sequence=\"ATGAGCCGCGATCATATGGTGCTGCATGAATATGTGAACGCGGCGGGCATTACCTAA\")"
   ]
  },
  {
   "cell_type": "markdown",
   "id": "6c0c7e25",
   "metadata": {},
   "source": [
    "## Task 3: Write an alternative translation function.\n",
    "\n",
    "### Instructions:\n",
    "\n",
    "```python\n",
    "####### YOUR ALTERNATIVE FUNCTION ########\n",
    "## Is there a better way to write the translation function? (Hint: yes there is.) \n",
    "## Perhaps using available BioPython library utilities?\n",
    "## Please also write this function.\n",
    "```\n",
    "\n",
    "### Solution:\n",
    "\n",
    "The solution is given in the cell block below:\n",
    "\n",
    "The following resources were used: https://biopython.org/wiki/Seq"
   ]
  },
  {
   "cell_type": "code",
   "execution_count": 19,
   "id": "59b6448b",
   "metadata": {},
   "outputs": [],
   "source": [
    "from Bio.Seq import Seq\n",
    "\n",
    "def alt_translate_function(coding_sequence):\n",
    "    coding_sequence = Seq(coding_sequence)\n",
    "    mito_table = CodonTable.unambiguous_dna_by_name[\"Vertebrate Mitochondrial\"]\n",
    "    translated_seq = coding_sequence.translate(table= mito_table, to_stop=True)\n",
    "    return str(translated_seq)"
   ]
  },
  {
   "cell_type": "markdown",
   "id": "189ffc1e",
   "metadata": {},
   "source": [
    "### Example Usage:\n",
    "\n",
    "Run the cell below to see an example usage of the translation function with a stop codon at the end."
   ]
  },
  {
   "cell_type": "code",
   "execution_count": 20,
   "id": "310c311a",
   "metadata": {},
   "outputs": [
    {
     "data": {
      "text/plain": [
       "'MSRDHMVLHEYVNAAGIT'"
      ]
     },
     "execution_count": 20,
     "metadata": {},
     "output_type": "execute_result"
    }
   ],
   "source": [
    "alt_translate_function(\"ATGAGCCGCGATCATATGGTGCTGCATGAATATGTGAACGCGGCGGGCATTACCTAA\")"
   ]
  },
  {
   "cell_type": "code",
   "execution_count": null,
   "id": "17f09d63",
   "metadata": {},
   "outputs": [],
   "source": []
  }
 ],
 "metadata": {
  "kernelspec": {
   "display_name": "base",
   "language": "python",
   "name": "python3"
  },
  "language_info": {
   "codemirror_mode": {
    "name": "ipython",
    "version": 3
   },
   "file_extension": ".py",
   "mimetype": "text/x-python",
   "name": "python",
   "nbconvert_exporter": "python",
   "pygments_lexer": "ipython3",
   "version": "3.12.2"
  }
 },
 "nbformat": 4,
 "nbformat_minor": 5
}
