{
 "cells": [
  {
   "cell_type": "markdown",
   "id": "211685e2",
   "metadata": {},
   "source": [
    "# BCB 546 Python Homework\n",
    "Author: Ryan Godin\n",
    "\n",
    "Run the following cell to load the libraries needed for the rest of the code in this notebook."
   ]
  },
  {
   "cell_type": "code",
   "execution_count": 47,
   "id": "cfd250c6",
   "metadata": {},
   "outputs": [],
   "source": [
    "## IMPORTANT: install BioPython so that this will work\n",
    "\n",
    "from Bio import SeqIO\n",
    "from Bio.Data import CodonTable\n",
    "import pandas as pd"
   ]
  },
  {
   "cell_type": "markdown",
   "id": "4b0d65c8",
   "metadata": {},
   "source": [
    "## Task 1: Document Dr. X's function with comments and with markdown text in your Jupyter notebook.\n",
    "\n",
    "### Instructions\n",
    "\n",
    "\n",
    "```python\n",
    "####### GET SEQUENCES FUNCTION ########\n",
    "## Dr. X: this gets sequences \n",
    "## Please properly document this function in the Jupyter notebook \n",
    "## Your descriptions of all functions should contain information about what the function does,\n",
    "## as well as information about the return types and arguments.\n",
    "def get_sequences_from_file(fasta_fn):\n",
    "    sequence_data_dict = {}\n",
    "    for record in SeqIO.parse(fasta_fn, \"fasta\"):\n",
    "        description = record.description.split()\n",
    "        species_name = description[1] + \" \" + description[2]\n",
    "        sequence_data_dict[species_name] = record.seq\n",
    "    return(sequence_data_dict)\n",
    "```\n",
    "\n",
    "### Solution:\n",
    "\n",
    "See the code cell below for the properly documented function."
   ]
  },
  {
   "cell_type": "code",
   "execution_count": 48,
   "id": "879ec2ae",
   "metadata": {},
   "outputs": [],
   "source": [
    "def get_sequences_from_file(fasta_fn):\n",
    "    \"\"\"\n",
    "    This function parses a fasta file and for all entries it: (1) extracts the species name from \n",
    "    the header and(2) stores the species name along with its sequence in a dictionary. It then \n",
    "    returns this dictonary. \n",
    "\n",
    "    Args:\n",
    "        fasta_fn (string): File name for the fasta file that should be parsed.\n",
    "\n",
    "    Returns:\n",
    "        sequence_data_dict (dict): dictionary with species names as keys and the sequence as the \n",
    "        entry. \n",
    "\n",
    "    Note: \n",
    "        If there is more than one entry for a species the sequence will be overwritten.\n",
    "    \"\"\"\n",
    "    sequence_data_dict = {}\n",
    "    for record in SeqIO.parse(fasta_fn, \"fasta\"):\n",
    "        description = record.description.split()\n",
    "        species_name = description[1] + \" \" + description[2]\n",
    "        sequence_data_dict[species_name] = record.seq\n",
    "    return sequence_data_dict"
   ]
  },
  {
   "cell_type": "markdown",
   "id": "85e3df09",
   "metadata": {},
   "source": [
    "### Example Usage:\n",
    "Run the cell below to see the function in action."
   ]
  },
  {
   "cell_type": "code",
   "execution_count": 49,
   "id": "d7f5d3f6",
   "metadata": {},
   "outputs": [
    {
     "data": {
      "text/plain": [
       "{'Aptenodytes forsteri': Seq('ATGGCCCCAAATCTCCGAAAATCCCATCCCCTCCTAAAAATAATTAATAACTCC...TAA'),\n",
       " 'Aptenodytes patagonicus': Seq('ATGGCCCCAAACCTCCGAAAATCCCATCCTCTCCTAAAAATAATTAATAACTCC...TAA'),\n",
       " 'Eudyptes chrysocome': Seq('ATGGCCCCCAACCTCCGAAAATCCCACCCCCTCCTAAAAACAATCAATAACTCC...TAA'),\n",
       " 'Eudyptes chrysolophus': Seq('ATGGCCCCCAACCTCCGAAAATCCCACCCCCTCCTAAAAACAATCAATAACTCC...TAA'),\n",
       " 'Eudyptes sclateri': Seq('ATGGCCCCCAACCTCCGAAAATCCCACCCCCTCCTAAAAACAATCAATAACTCC...TAA'),\n",
       " 'Eudyptula minor': Seq('ATGGCCCCCAACCTCCGAAAATCTCACCCCCTCCTAAAAATAATCAACAACTCT...TAA'),\n",
       " 'Pygoscelis adeliae': Seq('ATGGCCCCCAACCTCCGAAAATCCCACCCTCTCCTAAAAATAATTAACAACTCC...TAA'),\n",
       " 'Pygoscelis antarctica': Seq('ATGGCCCCCAACCTCCGAAAATCCCACCCTCTCCTAAAAATAATCAACAACTCC...TAG'),\n",
       " 'Pygoscelis papua': Seq('ATGGCCCCCAACCTTCGAAAATCCCACCCTCTCCTAAAAATAATCAACAAATCC...TAG'),\n",
       " 'Spheniscus demersus': Seq('ATGGCCCCCAACCTCCGAAAATCCCACCCTCTCCTAAAAACAATCAACAACTCC...TAA'),\n",
       " 'Spheniscus humboldti': Seq('ATGGCCCCCAACCTCCGAAAATCCCACCCTCTCCTAAAAACAATCAACAACTCC...TAA'),\n",
       " 'Spheniscus magellanicus': Seq('ATGGCCCCCAACCTCCGAAAATCCCACCCTCTCCTAAAAACAATCAACAACTCC...TAA')}"
      ]
     },
     "execution_count": 49,
     "metadata": {},
     "output_type": "execute_result"
    }
   ],
   "source": [
    "get_sequences_from_file(\"penguins_cytb.fasta\")"
   ]
  },
  {
   "cell_type": "markdown",
   "id": "bd005d9f",
   "metadata": {},
   "source": [
    "## Task 2: Write a function that translates a string of nucleotides to amino acids based on Dr. X's pseudo-code suggestion. \n",
    "\n",
    "### Instructions: \n",
    "\n",
    "```python\n",
    "####### YOUR STRING-TRANSLATE FUNCTION ########\n",
    "## Write a function that translates sequences\n",
    "## All sequences start at codon position 1\n",
    "## Complete a function that translates using a loop over the string of nucleotides\n",
    "## Here is  some pseudo-code and suggestions\n",
    "## feel free to change the function and variable names\n",
    "# def translate_function(string_nucleotides): \n",
    "#     mito_table = CodonTable.unambiguous_dna_by_name[\"Vertebrate Mitochondrial\"] # this should work using BioPython (be sure to check what this returns)\n",
    "#     for-loop through every 3rd position in string_nucleotides to get the codon using range subsets\n",
    "#         # IMPORTANT: if the sequence has a stop codon at the end, you should leave it off\n",
    "#         # this is how you can retrieve the amino acid: mito_table.forward_table[codon]\n",
    "#         add the aa to aa_seq_string\n",
    "#     return(aa_seq_string)\n",
    "```\n",
    "\n",
    "### Solution:\n",
    "\n",
    "See the code cell below for the requested function."
   ]
  },
  {
   "cell_type": "code",
   "execution_count": 50,
   "id": "7ed41766",
   "metadata": {},
   "outputs": [],
   "source": [
    "def translate_function(coding_sequence):\n",
    "    # Initialize empty amino acid string\n",
    "    aa_seq_string = \"\"  \n",
    "    mito_table = CodonTable.unambiguous_dna_by_name[\"Vertebrate Mitochondrial\"]\n",
    "    stop_codons = mito_table.stop_codons\n",
    "    if len(coding_sequence) % 3 != 0:\n",
    "        raise ValueError(\"The sequence is not a multiple of 3, so it is not correct.\")\n",
    "    for nucleotide in range(0, len(coding_sequence), 3):\n",
    "        end_nucleotide = nucleotide + 3\n",
    "        codon = coding_sequence[nucleotide:end_nucleotide]\n",
    "        if codon not in stop_codons:\n",
    "            amino_acid = mito_table.forward_table[codon]\n",
    "            aa_seq_string += amino_acid\n",
    "\n",
    "    return aa_seq_string"
   ]
  },
  {
   "cell_type": "markdown",
   "id": "f939ea25",
   "metadata": {},
   "source": [
    "### Example Usage:\n",
    "\n",
    "Run the cell below to see an example usage of the translation function with a stop codon at the end."
   ]
  },
  {
   "cell_type": "code",
   "execution_count": 51,
   "id": "5bb7abfe",
   "metadata": {},
   "outputs": [
    {
     "data": {
      "text/plain": [
       "'MSRDHMVLHEYVNAAGIT'"
      ]
     },
     "execution_count": 51,
     "metadata": {},
     "output_type": "execute_result"
    }
   ],
   "source": [
    "translate_function(coding_sequence=\"ATGAGCCGCGATCATATGGTGCTGCATGAATATGTGAACGCGGCGGGCATTACCTAA\")"
   ]
  },
  {
   "cell_type": "markdown",
   "id": "6c0c7e25",
   "metadata": {},
   "source": [
    "## Task 3: Write an alternative translation function.\n",
    "\n",
    "### Instructions:\n",
    "\n",
    "```python\n",
    "####### YOUR ALTERNATIVE FUNCTION ########\n",
    "## Is there a better way to write the translation function? (Hint: yes there is.) \n",
    "## Perhaps using available BioPython library utilities?\n",
    "## Please also write this function.\n",
    "```\n",
    "\n",
    "### Solution:\n",
    "\n",
    "The solution is given in the cell block below:\n",
    "\n",
    "The following resources were used: https://biopython.org/wiki/Seq"
   ]
  },
  {
   "cell_type": "code",
   "execution_count": 52,
   "id": "59b6448b",
   "metadata": {},
   "outputs": [],
   "source": [
    "from Bio.Seq import Seq\n",
    "\n",
    "def alt_translate_function(coding_sequence):\n",
    "    coding_sequence = Seq(coding_sequence)\n",
    "    mito_table = CodonTable.unambiguous_dna_by_name[\"Vertebrate Mitochondrial\"]\n",
    "    translated_seq = coding_sequence.translate(table= mito_table, to_stop=True)\n",
    "    return str(translated_seq)"
   ]
  },
  {
   "cell_type": "markdown",
   "id": "189ffc1e",
   "metadata": {},
   "source": [
    "### Example Usage:\n",
    "\n",
    "Run the cell below to see an example usage of the translation function with a stop codon at the end."
   ]
  },
  {
   "cell_type": "code",
   "execution_count": 53,
   "id": "310c311a",
   "metadata": {},
   "outputs": [
    {
     "data": {
      "text/plain": [
       "'MSRDHMVLHEYVNAAGIT'"
      ]
     },
     "execution_count": 53,
     "metadata": {},
     "output_type": "execute_result"
    }
   ],
   "source": [
    "alt_translate_function(\"ATGAGCCGCGATCATATGGTGCTGCATGAATATGTGAACGCGGCGGGCATTACCTAA\")"
   ]
  },
  {
   "cell_type": "markdown",
   "id": "d3c7b7c3",
   "metadata": {},
   "source": [
    "## Task 4: Write a function that calculates the molecular weight of each 3 amino acid sequence.\n",
    "\n",
    "### Instructions:\n",
    "\n",
    "```python\n",
    "## 4 ##\n",
    "####### YOUR COUNT AA ANALYSIS FUNCTION ########\n",
    "## Write a function that calculates the molecular weight of each amino acid sequence.\n",
    "## For this, you can use some BioPython functions. I think you can use the ProtParam module.\n",
    "## For more info, check this out: http://biopython.org/wiki/ProtParam\n",
    "## So you should import the following before defining your function:\n",
    "from Bio.SeqUtils.ProtParam import ProteinAnalysis\n",
    "# def compute_molecular_weight(aa_seq):\n",
    "#     # I think the ProtParam functions may require aa_seq to be a string.\n",
    "#     # It may not work if the amino acid sequence has stop codons.\n",
    "#     run the ProteinAnalysis() function on aa_seq\n",
    "#\t  return the molecular weight\n",
    "```\n",
    "\n",
    "### Solution:\n",
    "\n",
    "The solution is given in the cell block below.\n",
    "\n",
    "I used the following resources: https://biopython.org/docs/latest/api/Bio.SeqUtils.ProtParam.html#Bio.SeqUtils.ProtParam.ProteinAnalysis "
   ]
  },
  {
   "cell_type": "code",
   "execution_count": 54,
   "id": "316f4327",
   "metadata": {},
   "outputs": [],
   "source": [
    "from Bio.SeqUtils.ProtParam import ProteinAnalysis\n",
    "\n",
    "def get_molecular_weight(aa_seq):\n",
    "    molecular_weight = ProteinAnalysis(aa_seq).molecular_weight()\n",
    "    return molecular_weight"
   ]
  },
  {
   "cell_type": "markdown",
   "id": "91b0f06d",
   "metadata": {},
   "source": [
    "### Example Solution:\n",
    "\n",
    "The following code block shows an example of the function."
   ]
  },
  {
   "cell_type": "code",
   "execution_count": 55,
   "id": "6bbc4c71",
   "metadata": {},
   "outputs": [
    {
     "data": {
      "text/plain": [
       "2044.3143"
      ]
     },
     "execution_count": 55,
     "metadata": {},
     "output_type": "execute_result"
    }
   ],
   "source": [
    "aa_seq = \"MSRDHMVLHEYVNAAGIT\"\n",
    "get_molecular_weight(aa_seq)"
   ]
  },
  {
   "cell_type": "markdown",
   "id": "d04ee2a2",
   "metadata": {},
   "source": [
    "## Task 5: Write a function that computes the GC-content of each DNA sequence.\n",
    "\n",
    "### Instructions:\n",
    "\n",
    "```python\n",
    "####### YOUR GC CONTENT ANALYSIS FUNCTION ########\n",
    "# Write a function that calculates the GC-content (proportion of \"G\" and \"C\") of each DNA \n",
    "# sequence and returns this value.\n",
    "```\n",
    "\n",
    "### Solution:\n",
    "\n",
    "The solution is given in the cell block below.\n",
    "\n",
    "I used the following resources: https://biopython.org/docs/1.75/api/Bio.SeqUtils.html "
   ]
  },
  {
   "cell_type": "code",
   "execution_count": 56,
   "id": "b62cf726",
   "metadata": {},
   "outputs": [],
   "source": [
    "from Bio.SeqUtils import GC\n",
    "\n",
    "def get_gc_content(dna_seq):\n",
    "    \"\"\"\n",
    "    Fix me\n",
    "    \"\"\"\n",
    "    dna_seq = Seq(dna_seq)\n",
    "    return GC(dna_seq)\n"
   ]
  },
  {
   "cell_type": "markdown",
   "id": "61b327ee",
   "metadata": {},
   "source": [
    "### Example Solution:\n",
    "\n",
    "The following code block shows an example of the function."
   ]
  },
  {
   "cell_type": "code",
   "execution_count": 57,
   "id": "5c384529",
   "metadata": {},
   "outputs": [
    {
     "data": {
      "text/plain": [
       "50.87719298245614"
      ]
     },
     "execution_count": 57,
     "metadata": {},
     "output_type": "execute_result"
    }
   ],
   "source": [
    "dna_seq = \"ATGAGCCGCGATCATATGGTGCTGCATGAATATGTGAACGCGGCGGGCATTACCTAA\"\n",
    "get_gc_content(dna_seq)"
   ]
  },
  {
   "cell_type": "markdown",
   "id": "fef2d9cc",
   "metadata": {},
   "source": [
    "## Task 6: Add two new columns to the penguin DataFrame: (1) molecular weight and (2) GC content.\n",
    "\n",
    "### Instructions:\n",
    "\n",
    "```python\n",
    "cytb_seqs = get_sequences_from_file(\"penguins_cytb.fasta\") \n",
    "\n",
    "penguins_df = pd.read_csv(\"penguins_mass.csv\") # Includes only data for body mass \n",
    "species_list = list(penguins_df.species)\n",
    "## Add two new columns to the penguin DataFrame: (1) molecular weight and (2) GC content.\n",
    "## Set the value to 'NaN' to indicate that these cells are currently empty.\n",
    "```\n",
    "\n",
    "### Solution:\n",
    "\n",
    "The solution is given in the cell block below.\n",
    "\n",
    "I used the following resources: "
   ]
  },
  {
   "cell_type": "code",
   "execution_count": 58,
   "id": "f6533276",
   "metadata": {},
   "outputs": [
    {
     "name": "stdout",
     "output_type": "stream",
     "text": [
      "                    species   mass mol_weight gc_%\n",
      "0      Aptenodytes forsteri  28.00        NaN  NaN\n",
      "1   Aptenodytes patagonicus  13.40        NaN  NaN\n",
      "2       Eudyptes chrysocome   2.80        NaN  NaN\n",
      "3     Eudyptes chrysolophus   4.50        NaN  NaN\n",
      "4         Eudyptes sclateri   4.25        NaN  NaN\n",
      "5           Eudyptula minor   1.60        NaN  NaN\n",
      "6        Pygoscelis adeliae   4.60        NaN  NaN\n",
      "7     Pygoscelis antarctica   4.10        NaN  NaN\n",
      "8          Pygoscelis papua   6.10        NaN  NaN\n",
      "9       Spheniscus demersus   3.20        NaN  NaN\n",
      "10     Spheniscus humboldti   4.75        NaN  NaN\n",
      "11  Spheniscus magellanicus   3.40        NaN  NaN\n"
     ]
    }
   ],
   "source": [
    "cytb_seqs = get_sequences_from_file(\"penguins_cytb.fasta\") \n",
    "\n",
    "penguins_df = pd.read_csv(\"penguins_mass.csv\") # Includes only data for body mass \n",
    "species_list = list(penguins_df.species)\n",
    "\n",
    "penguins_df[\"mol_weight\"] = \"NaN\"\n",
    "penguins_df[\"gc_%\"] = \"NaN\"\n",
    "print(penguins_df)"
   ]
  },
  {
   "cell_type": "markdown",
   "id": "d1afefc4",
   "metadata": {},
   "source": [
    "## Task 7: Call your functions from step 3 (or step 2) and step 4 and fill in the new columns in the DataFrame.\n",
    "\n",
    "### Instructions:\n",
    "\n",
    "```python\n",
    "\n",
    "## Write a for-loop that translates each sequence and also gets molecular weight and computes the GC content\n",
    "## of each translated sequence and adds those data to DataFrame\n",
    "# for key, value in cytb_seqs.items():\n",
    "#     aa_seq = nuc2aa_translate_function(value) # whichever function you prefer of #2 or #3\n",
    "#     get the molecular weight of aa_seq\n",
    "#     get the GC content of the DNA sequence\n",
    "#     fill in empty cells in DF that you created above\n",
    "```\n",
    "\n",
    "### Solution:\n",
    "\n",
    "The solution is given in the cell block below.\n",
    "\n",
    "I used the following resources: "
   ]
  },
  {
   "cell_type": "code",
   "execution_count": 59,
   "id": "275fffc1",
   "metadata": {},
   "outputs": [
    {
     "name": "stdout",
     "output_type": "stream",
     "text": [
      "                    species   mass  mol_weight       gc_%\n",
      "0      Aptenodytes forsteri  28.00  42459.6021  48.381452\n",
      "1   Aptenodytes patagonicus  13.40  42563.7067  49.693788\n",
      "2       Eudyptes chrysocome   2.80  42475.5753  51.181102\n",
      "3     Eudyptes chrysolophus   4.50  42445.5493  50.918635\n",
      "4         Eudyptes sclateri   4.25  42475.5753  50.831146\n",
      "5           Eudyptula minor   1.60  42491.6408  49.256343\n",
      "6        Pygoscelis adeliae   4.60  42458.6140  49.081365\n",
      "7     Pygoscelis antarctica   4.10  42404.5423  47.769029\n",
      "8          Pygoscelis papua   6.10  42595.8759  47.156605\n",
      "9       Spheniscus demersus   3.20  42431.5490  48.293963\n",
      "10     Spheniscus humboldti   4.75  42399.5520  49.256343\n",
      "11  Spheniscus magellanicus   3.40  42459.6021  48.206474\n"
     ]
    }
   ],
   "source": [
    "def add_missing_data(data_frame, cytb_seqs):\n",
    "    for species in cytb_seqs.keys():\n",
    "        dna_seq = str(cytb_seqs[species])\n",
    "        aa_seq = alt_translate_function(dna_seq)\n",
    "        mol_weight = get_molecular_weight(aa_seq)\n",
    "        gc_content = get_gc_content(dna_seq)\n",
    "        data_frame.loc[data_frame['species'] == species, [\n",
    "            'mol_weight', 'gc_%']] = mol_weight, gc_content\n",
    "        data_frame['mol_weight'] = data_frame['mol_weight'].astype(float) \n",
    "        data_frame['gc_%'] = data_frame['gc_%'].astype(float)\n",
    "\n",
    "\n",
    "add_missing_data(penguins_df, cytb_seqs)\n",
    "print(penguins_df)"
   ]
  },
  {
   "cell_type": "markdown",
   "id": "53a0c3cc",
   "metadata": {},
   "source": [
    "## Task 8: Plot a bar-chart of adult body mass per species. In your description of the graph, provide text that answers these questions:\n",
    "\n",
    "### Instructions:\n",
    "\n",
    "```python\n",
    "## Plot a bar-chart of the mass with the x-axes labeled with species names.\n",
    "## *Q1* What is the smallest penguin species? \n",
    "## *Q2* What is the geographical range of this species?\n",
    "```\n",
    "\n",
    "### Solution:\n",
    "\n",
    "The solution is given in the cell block below.\n",
    "\n",
    "I used the following resources: https://seaborn.pydata.org/generated/seaborn.barplot.html\n",
    "\n",
    "Looking at the data, it appears that Eudyptula minor is the smallest penguin species by mass. According to 10.1371/journal.pone.0144966, it appears to be located off the coasts of Australia, New Zealand, and surrounding islands. "
   ]
  },
  {
   "cell_type": "code",
   "execution_count": 60,
   "id": "beba1fdd",
   "metadata": {},
   "outputs": [
    {
     "data": {
      "image/png": "[encoded data removed]",
      "text/plain": [
       "<Figure size 640x480 with 1 Axes>"
      ]
     },
     "metadata": {},
     "output_type": "display_data"
    }
   ],
   "source": [
    "import seaborn as sns\n",
    "import matplotlib.pyplot as plt\n",
    "\n",
    "def plot_mass(data_frame):\n",
    "    ax = sns.barplot(data_frame, x=\"species\", y=\"mass\", legend=True)\n",
    "    ax.tick_params(axis='x', rotation=90)\n",
    "\n",
    "plot_mass(penguins_df)"
   ]
  },
  {
   "cell_type": "markdown",
   "id": "b09d5c52",
   "metadata": {},
   "source": [
    "## Task 9: Plot a graph that shows the molecular weight as a function of GC content.\n",
    "\n",
    "### Instructions:\n",
    "\n",
    "```python\n",
    "## Plot a visualization of the molecular weight (y-axis) as a function of GC-content (x-axis).\n",
    "```\n",
    "\n",
    "### Solution:\n",
    "\n",
    "The solution is given in the cell block below.\n",
    "\n",
    "I used the following resources: https://seaborn.pydata.org/tutorial/function_overview.html, \n"
   ]
  },
  {
   "cell_type": "code",
   "execution_count": 61,
   "id": "29d1d347",
   "metadata": {},
   "outputs": [
    {
     "data": {
      "image/png": "[encoded data removed]",
      "text/plain": [
       "<Figure size 640x480 with 1 Axes>"
      ]
     },
     "metadata": {},
     "output_type": "display_data"
    }
   ],
   "source": [
    "def plot_mol_weight_vs_gc(data_frame):\n",
    "    sns.regplot(data_frame, x=\"gc_%\", y=\"mol_weight\")\n",
    "\n",
    "plot_mol_weight_vs_gc(penguins_df)"
   ]
  },
  {
   "cell_type": "code",
   "execution_count": null,
   "id": "0089a84a",
   "metadata": {},
   "outputs": [],
   "source": []
  }
 ],
 "metadata": {
  "kernelspec": {
   "display_name": "base",
   "language": "python",
   "name": "python3"
  },
  "language_info": {
   "codemirror_mode": {
    "name": "ipython",
    "version": 3
   },
   "file_extension": ".py",
   "mimetype": "text/x-python",
   "name": "python",
   "nbconvert_exporter": "python",
   "pygments_lexer": "ipython3",
   "version": "3.12.2"
  }
 },
 "nbformat": 4,
 "nbformat_minor": 5
}
