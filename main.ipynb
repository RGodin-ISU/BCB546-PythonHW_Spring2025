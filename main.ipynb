{
 "cells": [
  {
   "cell_type": "markdown",
   "id": "211685e2",
   "metadata": {},
   "source": [
    "# BCB 546 Python Homework\n",
    "Author: Ryan Godin\n",
    "\n",
    "Run the following cell to load the libraries needed for the rest of the code in this notebook."
   ]
  },
  {
   "cell_type": "code",
   "execution_count": 5,
   "id": "cfd250c6",
   "metadata": {},
   "outputs": [],
   "source": [
    "## IMPORTANT: install BioPython so that this will work\n",
    "\n",
    "from Bio import SeqIO\n",
    "from Bio.Data import CodonTable\n",
    "import pandas as pd"
   ]
  },
  {
   "cell_type": "markdown",
   "id": "4b0d65c8",
   "metadata": {},
   "source": [
    "## Task 1: Document Dr. X's function with comments and with markdown text in your Jupyter notebook.\n",
    "\n",
    "### Instructions\n",
    "\n",
    "\n",
    "```python\n",
    "####### GET SEQUENCES FUNCTION ########\n",
    "## Dr. X: this gets sequences \n",
    "## Please properly document this function in the Jupyter notebook \n",
    "## Your descriptions of all functions should contain information about what the function does,\n",
    "## as well as information about the return types and arguments.\n",
    "def get_sequences_from_file(fasta_fn):\n",
    "    sequence_data_dict = {}\n",
    "    for record in SeqIO.parse(fasta_fn, \"fasta\"):\n",
    "        description = record.description.split()\n",
    "        species_name = description[1] + \" \" + description[2]\n",
    "        sequence_data_dict[species_name] = record.seq\n",
    "    return(sequence_data_dict)\n",
    "```\n",
    "\n",
    "### Solution\n",
    "\n",
    "See the code cell below for the properly documented function."
   ]
  },
  {
   "cell_type": "code",
   "execution_count": 8,
   "id": "879ec2ae",
   "metadata": {},
   "outputs": [],
   "source": [
    "def get_sequences_from_file(fasta_fn):\n",
    "    \"\"\"\n",
    "    This function parses a fasta file and for all entries it: (1) extracts the species name from \n",
    "    the header and(2) stores the species name along with its sequence in a dictionary. It then \n",
    "    returns this dictonary. \n",
    "\n",
    "    Args:\n",
    "        fasta_fn (string): File name for the fasta file that should be parsed.\n",
    "\n",
    "    Returns:\n",
    "        sequence_data_dict (dict): dictionary with species names as keys and the sequence as the \n",
    "        entry. \n",
    "\n",
    "    Note: \n",
    "        If there is more than one entry for a species the sequence will be overwritten.\n",
    "    \"\"\"\n",
    "    sequence_data_dict = {}\n",
    "    for record in SeqIO.parse(fasta_fn, \"fasta\"):\n",
    "        description = record.description.split()\n",
    "        species_name = description[1] + \" \" + description[2]\n",
    "        sequence_data_dict[species_name] = record.seq\n",
    "    return sequence_data_dict"
   ]
  },
  {
   "cell_type": "markdown",
   "id": "85e3df09",
   "metadata": {},
   "source": [
    "### Example Usage:\n",
    "Run the cell below to see the function in action."
   ]
  },
  {
   "cell_type": "code",
   "execution_count": 6,
   "id": "d7f5d3f6",
   "metadata": {},
   "outputs": [
    {
     "data": {
      "text/plain": [
       "{'Aptenodytes forsteri': Seq('ATGGCCCCAAATCTCCGAAAATCCCATCCCCTCCTAAAAATAATTAATAACTCC...TAA'),\n",
       " 'Aptenodytes patagonicus': Seq('ATGGCCCCAAACCTCCGAAAATCCCATCCTCTCCTAAAAATAATTAATAACTCC...TAA'),\n",
       " 'Eudyptes chrysocome': Seq('ATGGCCCCCAACCTCCGAAAATCCCACCCCCTCCTAAAAACAATCAATAACTCC...TAA'),\n",
       " 'Eudyptes chrysolophus': Seq('ATGGCCCCCAACCTCCGAAAATCCCACCCCCTCCTAAAAACAATCAATAACTCC...TAA'),\n",
       " 'Eudyptes sclateri': Seq('ATGGCCCCCAACCTCCGAAAATCCCACCCCCTCCTAAAAACAATCAATAACTCC...TAA'),\n",
       " 'Eudyptula minor': Seq('ATGGCCCCCAACCTCCGAAAATCTCACCCCCTCCTAAAAATAATCAACAACTCT...TAA'),\n",
       " 'Pygoscelis adeliae': Seq('ATGGCCCCCAACCTCCGAAAATCCCACCCTCTCCTAAAAATAATTAACAACTCC...TAA'),\n",
       " 'Pygoscelis antarctica': Seq('ATGGCCCCCAACCTCCGAAAATCCCACCCTCTCCTAAAAATAATCAACAACTCC...TAG'),\n",
       " 'Pygoscelis papua': Seq('ATGGCCCCCAACCTTCGAAAATCCCACCCTCTCCTAAAAATAATCAACAAATCC...TAG'),\n",
       " 'Spheniscus demersus': Seq('ATGGCCCCCAACCTCCGAAAATCCCACCCTCTCCTAAAAACAATCAACAACTCC...TAA'),\n",
       " 'Spheniscus humboldti': Seq('ATGGCCCCCAACCTCCGAAAATCCCACCCTCTCCTAAAAACAATCAACAACTCC...TAA'),\n",
       " 'Spheniscus magellanicus': Seq('ATGGCCCCCAACCTCCGAAAATCCCACCCTCTCCTAAAAACAATCAACAACTCC...TAA')}"
      ]
     },
     "execution_count": 6,
     "metadata": {},
     "output_type": "execute_result"
    }
   ],
   "source": [
    "get_sequences_from_file(\"penguins_cytb.fasta\")"
   ]
  },
  {
   "cell_type": "code",
   "execution_count": null,
   "id": "6c96c1dd",
   "metadata": {},
   "outputs": [],
   "source": []
  }
 ],
 "metadata": {
  "kernelspec": {
   "display_name": "base",
   "language": "python",
   "name": "python3"
  },
  "language_info": {
   "codemirror_mode": {
    "name": "ipython",
    "version": 3
   },
   "file_extension": ".py",
   "mimetype": "text/x-python",
   "name": "python",
   "nbconvert_exporter": "python",
   "pygments_lexer": "ipython3",
   "version": "3.12.2"
  }
 },
 "nbformat": 4,
 "nbformat_minor": 5
}
